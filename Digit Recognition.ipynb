{
 "cells": [
  {
   "cell_type": "markdown",
   "id": "e2a010dc",
   "metadata": {},
   "source": [
    "## 1. Import Dependencies"
   ]
  },
  {
   "cell_type": "code",
   "execution_count": 1,
   "id": "b97ac923",
   "metadata": {},
   "outputs": [],
   "source": [
    "import numpy as np\n",
    "import pandas as pd\n",
    "import matplotlib.pyplot as plt\n",
    "from tqdm import tqdm\n",
    "import pickle"
   ]
  },
  {
   "cell_type": "code",
   "execution_count": null,
   "id": "9e4c9bd8",
   "metadata": {},
   "outputs": [],
   "source": []
  },
  {
   "cell_type": "markdown",
   "id": "dc8e2838",
   "metadata": {},
   "source": [
    "## 2. Load and Split Data"
   ]
  },
  {
   "cell_type": "code",
   "execution_count": 2,
   "id": "6ce893b2",
   "metadata": {},
   "outputs": [],
   "source": [
    "df = pd.read_csv('data/train.csv')"
   ]
  },
  {
   "cell_type": "code",
   "execution_count": 3,
   "id": "71a2616b",
   "metadata": {},
   "outputs": [],
   "source": [
    "df = np.array(df)\n",
    "m,n = df.shape\n",
    "np.random.shuffle(df)"
   ]
  },
  {
   "cell_type": "code",
   "execution_count": null,
   "id": "4585e4de",
   "metadata": {},
   "outputs": [],
   "source": []
  },
  {
   "cell_type": "code",
   "execution_count": 4,
   "id": "8e614442",
   "metadata": {},
   "outputs": [],
   "source": [
    "data_dev = df[0:1000].T\n",
    "Y_dev = data_dev[0]\n",
    "X_dev = data_dev[1:n]\n",
    "X_dev = X_dev / 255.\n",
    "\n",
    "data_train = df[1000:m].T\n",
    "Y_train = data_train[0]\n",
    "X_train = data_train[1:n]\n",
    "X_train = X_train / 255."
   ]
  },
  {
   "cell_type": "code",
   "execution_count": 5,
   "id": "b79c24f3",
   "metadata": {},
   "outputs": [
    {
     "name": "stdout",
     "output_type": "stream",
     "text": [
      "(784, 41000)\n"
     ]
    }
   ],
   "source": [
    "print(X_train.shape)\n",
    "_,m = X_train.shape"
   ]
  },
  {
   "cell_type": "code",
   "execution_count": 6,
   "id": "40bf2239",
   "metadata": {},
   "outputs": [
    {
     "data": {
      "text/plain": [
       "(41000,)"
      ]
     },
     "execution_count": 6,
     "metadata": {},
     "output_type": "execute_result"
    }
   ],
   "source": [
    "Y_train.shape"
   ]
  },
  {
   "cell_type": "code",
   "execution_count": null,
   "id": "baeede44",
   "metadata": {},
   "outputs": [],
   "source": []
  },
  {
   "cell_type": "markdown",
   "id": "87a8ee15",
   "metadata": {},
   "source": [
    "## 2. Intializing Parameters"
   ]
  },
  {
   "cell_type": "code",
   "execution_count": null,
   "id": "cc96d886",
   "metadata": {},
   "outputs": [],
   "source": [
    "def init_params():\n",
    "    W1 = np.random.rand(10, 784) - 0.5\n",
    "    b1 = np.random.rand(10, 1) - 0.5\n",
    "    W2 = np.random.rand(10, 10) - 0.5\n",
    "    b2 = np.random.rand(10, 1) - 0.5\n",
    "    return W1, b1, W2, b2"
   ]
  },
  {
   "cell_type": "code",
   "execution_count": null,
   "id": "d04c23ea",
   "metadata": {},
   "outputs": [],
   "source": []
  },
  {
   "cell_type": "markdown",
   "id": "3e2a9ed5",
   "metadata": {},
   "source": [
    "## 3. Forward Propagation"
   ]
  },
  {
   "cell_type": "code",
   "execution_count": null,
   "id": "7934fec7",
   "metadata": {},
   "outputs": [],
   "source": [
    "def one_hot(Y):\n",
    "    one_hot_Y = np.zeros((Y.size, Y.max() + 1))\n",
    "    one_hot_Y[np.arange(Y.size), Y] = 1\n",
    "    one_hot_Y = one_hot_Y.T\n",
    "    return one_hot_Y"
   ]
  },
  {
   "cell_type": "code",
   "execution_count": null,
   "id": "9dc1ec5b",
   "metadata": {},
   "outputs": [],
   "source": []
  },
  {
   "cell_type": "code",
   "execution_count": 7,
   "id": "0f14e59d",
   "metadata": {},
   "outputs": [],
   "source": [
    "def ReLU(Z):\n",
    "    return np.maximum(Z, 0)"
   ]
  },
  {
   "cell_type": "code",
   "execution_count": 8,
   "id": "efa45b2e",
   "metadata": {},
   "outputs": [],
   "source": [
    "def softmax(Z):\n",
    "    A = np.exp(Z) / sum(np.exp(Z))\n",
    "    return A"
   ]
  },
  {
   "cell_type": "code",
   "execution_count": null,
   "id": "94956269",
   "metadata": {},
   "outputs": [],
   "source": [
    "def forward_prop(W1, b1, W2, b2, X, Y):\n",
    "    one_hot_Y = one_hot(Y)\n",
    "    Z1 = np.dot(W1, X) + b1\n",
    "    A1 = ReLU(Z1)\n",
    "    Z2 = np.dot(W2, A1) + b2\n",
    "    A2 = softmax(Z2)\n",
    "    \n",
    "    logprobs = np.multiply(np.log(A2), one_hot_Y) + np.multiply(np.log(1 - A2), (1 - one_hot_Y))\n",
    "    cost = -np.sum(logprobs) / m\n",
    "    \n",
    "    return Z1, A1, Z2, A2, cost"
   ]
  },
  {
   "cell_type": "code",
   "execution_count": null,
   "id": "230c0993",
   "metadata": {},
   "outputs": [],
   "source": []
  },
  {
   "cell_type": "markdown",
   "id": "17bd74d9",
   "metadata": {},
   "source": [
    "## 4. Backward Propagation"
   ]
  },
  {
   "cell_type": "code",
   "execution_count": null,
   "id": "c109849e",
   "metadata": {},
   "outputs": [],
   "source": [
    "def ReLU_deriv(Z):\n",
    "    return Z > 0"
   ]
  },
  {
   "cell_type": "code",
   "execution_count": null,
   "id": "fa427ae9",
   "metadata": {},
   "outputs": [],
   "source": [
    "def backward_prop(Z1, A1, Z2, A2, W1, W2, X, Y):   \n",
    "    one_hot_Y = one_hot(Y)\n",
    "    dZ2 = A2 - one_hot_Y\n",
    "    dW2 = 1 / m * np.dot(dZ2, A1.T)\n",
    "    db2 = 1 / m * np.sum(dZ2)\n",
    "    dZ1 = np.dot(W2.T, dZ2) * ReLU_deriv(Z1)\n",
    "    dW1 = 1 / m * np.dot(dZ1, X.T)\n",
    "    db1 = 1 / m * np.sum(dZ1)\n",
    "    return dW1, db1, dW2, db2"
   ]
  },
  {
   "cell_type": "code",
   "execution_count": null,
   "id": "c20a66ca",
   "metadata": {},
   "outputs": [],
   "source": [
    "def update_params(W1, b1, W2, b2, dW1, db1, dW2, db2, alpha):\n",
    "    W1 = W1 - alpha * dW1\n",
    "    b1 = b1 - alpha * db1    \n",
    "    W2 = W2 - alpha * dW2  \n",
    "    b2 = b2 - alpha * db2    \n",
    "    return W1, b1, W2, b2"
   ]
  },
  {
   "cell_type": "code",
   "execution_count": null,
   "id": "0b56eefb",
   "metadata": {},
   "outputs": [],
   "source": []
  },
  {
   "cell_type": "markdown",
   "id": "e46ad326",
   "metadata": {},
   "source": [
    "## 3. Training Neural Network"
   ]
  },
  {
   "cell_type": "code",
   "execution_count": null,
   "id": "8a12ad43",
   "metadata": {},
   "outputs": [],
   "source": [
    "epochs = 2000\n",
    "learningRate = 0.01\n",
    "losses = np.zeros((epochs, 1))\n",
    "\n",
    "# W1, b1, W2, b2 = init_params()"
   ]
  },
  {
   "cell_type": "code",
   "execution_count": null,
   "id": "9bf3a398",
   "metadata": {},
   "outputs": [],
   "source": []
  },
  {
   "cell_type": "code",
   "execution_count": null,
   "id": "262f1200",
   "metadata": {
    "scrolled": false
   },
   "outputs": [],
   "source": [
    "for i in tqdm(range(epochs), desc=\"Training Progress\"):\n",
    "    Z1, A1, Z2, A2, losses[i, 0] = forward_prop(W1, b1, W2, b2, X_train, Y_train)\n",
    "    dW1, db1, dW2, db2 = backward_prop(Z1, A1, Z2, A2, W1, W2, X_train, Y_train)\n",
    "    W1, b1, W2, b2 = update_params(W1, b1, W2, b2, dW1, db1, dW2, db2, learningRate)\n",
    "    \n",
    "    if i % 500 == 0:\n",
    "        print(losses[i,0])"
   ]
  },
  {
   "cell_type": "code",
   "execution_count": null,
   "id": "1a44b9c0",
   "metadata": {},
   "outputs": [],
   "source": []
  },
  {
   "cell_type": "code",
   "execution_count": null,
   "id": "d4c373c9",
   "metadata": {},
   "outputs": [],
   "source": [
    "plt.figure()\n",
    "plt.plot(losses)\n",
    "plt.xlabel(\"EPOCHS\")\n",
    "plt.ylabel(\"Loss value\")\n",
    "plt.show()"
   ]
  },
  {
   "cell_type": "markdown",
   "id": "6ba14030",
   "metadata": {},
   "source": [
    "## 4. Making Predictions"
   ]
  },
  {
   "cell_type": "code",
   "execution_count": 9,
   "id": "d2e34dc7",
   "metadata": {},
   "outputs": [],
   "source": [
    "def get_predictions(A2):\n",
    "    return np.argmax(A2, 0)"
   ]
  },
  {
   "cell_type": "code",
   "execution_count": null,
   "id": "5abbefd6",
   "metadata": {},
   "outputs": [],
   "source": [
    "def get_accuracy(predictions, Y):\n",
    "#     print(predictions, Y)\n",
    "    return np.sum(predictions == Y) / Y.size"
   ]
  },
  {
   "cell_type": "code",
   "execution_count": null,
   "id": "6bb31439",
   "metadata": {},
   "outputs": [],
   "source": [
    "Z1, A1, Z2, A2, cost = forward_prop(W1, b1, W2, b2, X_train, Y_train)"
   ]
  },
  {
   "cell_type": "code",
   "execution_count": null,
   "id": "b09047e7",
   "metadata": {},
   "outputs": [],
   "source": [
    "predictions = get_predictions(A2)"
   ]
  },
  {
   "cell_type": "code",
   "execution_count": null,
   "id": "ccfccb5a",
   "metadata": {},
   "outputs": [],
   "source": [
    "print(get_accuracy(predictions, Y_train))"
   ]
  },
  {
   "cell_type": "code",
   "execution_count": null,
   "id": "f5a54a2d",
   "metadata": {},
   "outputs": [],
   "source": []
  },
  {
   "cell_type": "markdown",
   "id": "fff4c18b",
   "metadata": {},
   "source": [
    "## 5. Accuracy 86.2 % "
   ]
  },
  {
   "cell_type": "code",
   "execution_count": null,
   "id": "c2cee71d",
   "metadata": {},
   "outputs": [],
   "source": [
    "Z1, A1, Z2, A2, cost = forward_prop(W1, b1, W2, b2, X_dev , Y_dev)"
   ]
  },
  {
   "cell_type": "code",
   "execution_count": null,
   "id": "cde01ff9",
   "metadata": {},
   "outputs": [],
   "source": [
    "predictions = get_predictions(A2)"
   ]
  },
  {
   "cell_type": "code",
   "execution_count": null,
   "id": "d7dea7fb",
   "metadata": {},
   "outputs": [],
   "source": [
    "print(get_accuracy(predictions, Y_dev))"
   ]
  },
  {
   "cell_type": "code",
   "execution_count": null,
   "id": "ff64b557",
   "metadata": {},
   "outputs": [],
   "source": []
  },
  {
   "cell_type": "markdown",
   "id": "f6c78ed9",
   "metadata": {},
   "source": [
    "## 6. Saving Parameters"
   ]
  },
  {
   "cell_type": "code",
   "execution_count": null,
   "id": "27fba8f1",
   "metadata": {},
   "outputs": [],
   "source": [
    "with open('parameters/W1.pkl', 'wb') as f:\n",
    "    pickle.dump(W1, f)\n",
    "    \n",
    "with open('parameters/W2.pkl', 'wb') as f:\n",
    "    pickle.dump(W2, f)\n",
    "\n",
    "with open('parameters/b1.pkl', 'wb') as f:\n",
    "    pickle.dump(b1, f)\n",
    "    \n",
    "with open('parameters/b2.pkl', 'wb') as f:\n",
    "    pickle.dump(b2, f)"
   ]
  },
  {
   "cell_type": "code",
   "execution_count": 10,
   "id": "71c91f8d",
   "metadata": {},
   "outputs": [],
   "source": [
    "with open('parameters/W1.pkl', 'rb') as f:\n",
    "    W1 = pickle.load(f)\n",
    "\n",
    "with open('parameters/W2.pkl', 'rb') as f:\n",
    "    W2 = pickle.load(f)\n",
    "    \n",
    "with open('parameters/b1.pkl', 'rb') as f:\n",
    "    b1 = pickle.load(f)\n",
    "    \n",
    "with open('parameters/b2.pkl', 'rb') as f:\n",
    "    b2 = pickle.load(f)"
   ]
  },
  {
   "cell_type": "code",
   "execution_count": null,
   "id": "4d39f334",
   "metadata": {},
   "outputs": [],
   "source": []
  },
  {
   "cell_type": "markdown",
   "id": "6bfd187f",
   "metadata": {},
   "source": [
    "## 7. Let's Try our Model"
   ]
  },
  {
   "cell_type": "code",
   "execution_count": 11,
   "id": "b1a88e4b",
   "metadata": {},
   "outputs": [],
   "source": [
    "def forward(W1, b1, W2, b2, X):\n",
    "    print(X.shape)\n",
    "    Z1 = np.dot(W1, X) + b1\n",
    "    A1 = ReLU(Z1)\n",
    "    Z2 = np.dot(W2, A1) + b2\n",
    "    A2 = softmax(Z2)\n",
    "    \n",
    "    return Z1, A1, Z2, A2"
   ]
  },
  {
   "cell_type": "code",
   "execution_count": 12,
   "id": "456d1915",
   "metadata": {},
   "outputs": [
    {
     "name": "stdout",
     "output_type": "stream",
     "text": [
      "(784, 1)\n"
     ]
    }
   ],
   "source": [
    "index = 10\n",
    "\n",
    "sample = X_dev[:, index, None]\n",
    "\n",
    "_, _, _, A2 = forward(W1, b1, W2, b2, sample)"
   ]
  },
  {
   "cell_type": "code",
   "execution_count": 13,
   "id": "8ddd77c2",
   "metadata": {},
   "outputs": [
    {
     "name": "stdout",
     "output_type": "stream",
     "text": [
      "Predicted Value: [4]\n",
      "Actual Value: 4\n"
     ]
    }
   ],
   "source": [
    "predictions = get_predictions(A2)\n",
    "\n",
    "print(f'Predicted Value: {predictions}')\n",
    "print(f'Actual Value: {Y_dev[index]}')"
   ]
  },
  {
   "cell_type": "code",
   "execution_count": 14,
   "id": "458b5571",
   "metadata": {},
   "outputs": [
    {
     "data": {
      "image/png": "[encoded data removed]",
      "text/plain": [
       "<Figure size 432x288 with 1 Axes>"
      ]
     },
     "metadata": {
      "needs_background": "light"
     },
     "output_type": "display_data"
    }
   ],
   "source": [
    "# Plotting Image\n",
    "\n",
    "current_image = sample\n",
    "current_image = current_image.reshape((28, 28)) * 255\n",
    "plt.gray()\n",
    "plt.imshow(current_image, interpolation='nearest')\n",
    "plt.show()"
   ]
  },
  {
   "cell_type": "code",
   "execution_count": null,
   "id": "7a00f249",
   "metadata": {},
   "outputs": [],
   "source": []
  },
  {
   "cell_type": "code",
   "execution_count": null,
   "id": "e4c1e2c3",
   "metadata": {},
   "outputs": [],
   "source": []
  }
 ],
 "metadata": {
  "kernelspec": {
   "display_name": "Python 3 (ipykernel)",
   "language": "python",
   "name": "python3"
  },
  "language_info": {
   "codemirror_mode": {
    "name": "ipython",
    "version": 3
   },
   "file_extension": ".py",
   "mimetype": "text/x-python",
   "name": "python",
   "nbconvert_exporter": "python",
   "pygments_lexer": "ipython3",
   "version": "3.10.4"
  }
 },
 "nbformat": 4,
 "nbformat_minor": 5
}
